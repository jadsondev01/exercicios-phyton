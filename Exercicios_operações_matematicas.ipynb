{
  "nbformat": 4,
  "nbformat_minor": 0,
  "metadata": {
    "colab": {
      "provenance": [],
      "authorship_tag": "ABX9TyOgYalUI6g+mwsFXI7hzq2f",
      "include_colab_link": true
    },
    "kernelspec": {
      "name": "python3",
      "display_name": "Python 3"
    },
    "language_info": {
      "name": "python"
    }
  },
  "cells": [
    {
      "cell_type": "markdown",
      "metadata": {
        "id": "view-in-github",
        "colab_type": "text"
      },
      "source": [
        "<a href=\"https://colab.research.google.com/github/jadsondev01/exercicios-phyton/blob/main/Exercicios_opera%C3%A7%C3%B5es_matematicas.ipynb\" target=\"_parent\"><img src=\"https://colab.research.google.com/assets/colab-badge.svg\" alt=\"Open In Colab\"/></a>"
      ]
    },
    {
      "cell_type": "code",
      "source": [
        "print('Olá ,Mundo')"
      ],
      "metadata": {
        "colab": {
          "base_uri": "https://localhost:8080/"
        },
        "id": "n0R6xgeExkil",
        "outputId": "2a19e7f8-8c19-415a-851f-8b8039050108"
      },
      "execution_count": 1,
      "outputs": [
        {
          "output_type": "stream",
          "name": "stdout",
          "text": [
            "Olá ,Mundo\n"
          ]
        }
      ]
    },
    {
      "cell_type": "code",
      "source": [
        "num=input(\"digite um numero \")\n",
        "print(f\"seu numero é {num}\")"
      ],
      "metadata": {
        "colab": {
          "base_uri": "https://localhost:8080/"
        },
        "id": "wa0hxbJoxpLu",
        "outputId": "e309217c-d40e-4633-ce74-2e5740d235f3"
      },
      "execution_count": 2,
      "outputs": [
        {
          "output_type": "stream",
          "name": "stdout",
          "text": [
            "digite um numero 2\n",
            "seu numero é 2\n"
          ]
        }
      ]
    },
    {
      "cell_type": "code",
      "source": [
        "Strin_01 =input(\"Digite seu primeiro nome:\")\n",
        "Strin_02 = input(\"Digite seu segundo nome:\")\n",
        "print(f\"{Strin_01} {Strin_02}\")"
      ],
      "metadata": {
        "colab": {
          "base_uri": "https://localhost:8080/"
        },
        "id": "BW5uwKFux_JS",
        "outputId": "a9a416da-a867-4369-883d-67a1028b8d9b"
      },
      "execution_count": 7,
      "outputs": [
        {
          "output_type": "stream",
          "name": "stdout",
          "text": [
            "digite seu primeiro nome:jadson\n",
            "diggite seu segundo nome:Luciano\n",
            " jadson Luciano\n"
          ]
        }
      ]
    },
    {
      "cell_type": "code",
      "source": [
        "num1= int(input(\"Digite o 1 Numero:\"))\n",
        "num2= int(input(\"Digite o 2 Numero:\"))\n",
        "num3= int(input(\"Digite o 3 Numero:\"))\n",
        "\n",
        "print(f'{num1}+{num2}+{num3}={num1+num2+num3}')"
      ],
      "metadata": {
        "colab": {
          "base_uri": "https://localhost:8080/"
        },
        "id": "napYynbd0L0d",
        "outputId": "63795bc5-642d-46ec-ff4a-302b746f5fa1"
      },
      "execution_count": 12,
      "outputs": [
        {
          "output_type": "stream",
          "name": "stdout",
          "text": [
            "Digite o 1 Numero:1\n",
            "Digite o 2 Numero:25\n",
            "Digite o 3 Numero:7\n",
            "1+25+7=33\n"
          ]
        }
      ]
    },
    {
      "cell_type": "code",
      "source": [
        "nota1= float(input('digite sua Primeira nota :'))\n",
        "nota2= float(input('digite sua Segunda nota:'))\n",
        "\n",
        "media = (nota1 +nota2) / 2\n",
        "\n",
        "print(f\"sua media é {nota1} e {nota2} dividido pela {media}\" )"
      ],
      "metadata": {
        "colab": {
          "base_uri": "https://localhost:8080/"
        },
        "id": "FI5lxay11mrM",
        "outputId": "66f1b833-44ff-49a3-832f-c82c674e9155"
      },
      "execution_count": 17,
      "outputs": [
        {
          "output_type": "stream",
          "name": "stdout",
          "text": [
            "digite sua Primeira nota :10\n",
            "digite sua Segunda nota:10\n",
            "sua media é 10.0 e 10.0 dividido pela 10.0\n"
          ]
        }
      ]
    },
    {
      "cell_type": "code",
      "source": [
        "num=float(input('Digite seu numero:  '))\n",
        "print (f'A Raiz quadrada da seu numero é {num} é {num** (1/2)}')"
      ],
      "metadata": {
        "colab": {
          "base_uri": "https://localhost:8080/"
        },
        "id": "S9mnjihN4Gnx",
        "outputId": "1b90db90-b693-4027-83c9-6ff231502551"
      },
      "execution_count": 9,
      "outputs": [
        {
          "output_type": "stream",
          "name": "stdout",
          "text": [
            "Digite seu numero:  100\n",
            "A Raiz quadrada da seu numero é 100.0 é 10.0\n"
          ]
        }
      ]
    },
    {
      "cell_type": "code",
      "source": [
        "num1= float(input(\"Digite o 1 Numero:\"))\n",
        "num2= float(input(\"Digite o 2 Numero:\"))\n",
        "num3= float(input(\"Digite o 3 Numero:\"))\n",
        "num4= float(input(\"Digite o 3 Numero:\"))\n",
        "num5= float(input(\"Digite o 5 Numero:\"))\n",
        "\n",
        "\n",
        "media = (num1+num2+num3+num4+num5)/5\n",
        "print(f'media {media}')"
      ],
      "metadata": {
        "colab": {
          "base_uri": "https://localhost:8080/"
        },
        "id": "j9C-_a8l5VNZ",
        "outputId": "31dbecf4-bd4f-48da-cc20-24ffa01f9b7b"
      },
      "execution_count": 10,
      "outputs": [
        {
          "output_type": "stream",
          "name": "stdout",
          "text": [
            "Digite o 1 Numero:2\n",
            "Digite o 2 Numero:2\n",
            "Digite o 3 Numero:2\n",
            "Digite o 3 Numero:2\n",
            "Digite o 5 Numero:2\n",
            "media 2.0\n"
          ]
        }
      ]
    },
    {
      "cell_type": "code",
      "source": [
        "num=float(input('digite o valor em metros: '))\n",
        "print(f'{num} metros equivale a {num/1000} km' )"
      ],
      "metadata": {
        "colab": {
          "base_uri": "https://localhost:8080/"
        },
        "id": "1SYjWgaB6SPD",
        "outputId": "22b54df9-d4e2-4dfd-b2ff-bf62006ef564"
      },
      "execution_count": 12,
      "outputs": [
        {
          "output_type": "stream",
          "name": "stdout",
          "text": [
            "digite o valor em metros: 10\n",
            "10.0 metros equivale a 0.01 km\n"
          ]
        }
      ]
    },
    {
      "cell_type": "code",
      "source": [
        "from math import pi\n",
        "raio=float(input('digite o valor do raio da circuferencia: '))\n",
        "print(f'a area da circuferencia :{pi*raio**2:.2f}')"
      ],
      "metadata": {
        "colab": {
          "base_uri": "https://localhost:8080/"
        },
        "id": "yHyz_whG60bm",
        "outputId": "e94c9482-db41-42f6-eb6b-c5a7355b6e22"
      },
      "execution_count": 16,
      "outputs": [
        {
          "output_type": "stream",
          "name": "stdout",
          "text": [
            "digite o valor do raio da circuferencia: 2\n",
            "a area da circuferencia :12.57\n"
          ]
        }
      ]
    },
    {
      "cell_type": "code",
      "source": [
        "f=float(input('Temperatura em Fahrenheit: \\n'))\n",
        "c=5*((f-32)/9)\n",
        "print(f'{f:.2f}° F equivale a {c:.2f}° C .')"
      ],
      "metadata": {
        "colab": {
          "base_uri": "https://localhost:8080/"
        },
        "id": "WYEhuazu7eo8",
        "outputId": "1d1e2ab0-a30a-4807-bb5d-94333d17e993"
      },
      "execution_count": 17,
      "outputs": [
        {
          "output_type": "stream",
          "name": "stdout",
          "text": [
            "Temperatura em Fahrenheit: \n",
            "10\n",
            "10.00° F equivale a -12.22° C .\n"
          ]
        }
      ]
    },
    {
      "cell_type": "code",
      "source": [
        "num1=float(input('Número 1: '))\n",
        "num2=float(input('Número 2: '))\n",
        "print(f'{num1}x{num2}={num1*num2}')\n",
        "print(f'{num1}/{num2}={num1/num2}')"
      ],
      "metadata": {
        "colab": {
          "base_uri": "https://localhost:8080/"
        },
        "id": "JJ6XW8fh77FB",
        "outputId": "8ef9dddd-0786-4639-f3bd-e9ea73569289"
      },
      "execution_count": 18,
      "outputs": [
        {
          "output_type": "stream",
          "name": "stdout",
          "text": [
            "Número 1: 2\n",
            "Número 2: 2\n",
            "2.0x2.0=4.0\n",
            "2.0/2.0=1.0\n"
          ]
        }
      ]
    },
    {
      "cell_type": "code",
      "source": [
        "nome=input('Nome: ')\n",
        "sobrenome=input('Sobrenome: ')\n",
        "idade=int(input('Idade: '))\n",
        "print(f'Seja bem-vindo {nome.strip().title()} {sobrenome.strip().title()}')\n",
        "print(f'Você possui {idade} anos de idade.')"
      ],
      "metadata": {
        "colab": {
          "base_uri": "https://localhost:8080/"
        },
        "id": "33Oemp3_8cPN",
        "outputId": "ca817646-8f2b-4ca1-8611-4fc83855fceb"
      },
      "execution_count": 19,
      "outputs": [
        {
          "output_type": "stream",
          "name": "stdout",
          "text": [
            "Nome: jadson\n",
            "Sobrenome: luciano\n",
            "Idade: 22\n",
            "Seja bem-vindo Jadson Luciano\n",
            "Você possui 22 anos de idade.\n"
          ]
        }
      ]
    },
    {
      "cell_type": "code",
      "source": [
        "num=input('Digite um número:: ')\n",
        "num=float(num)\n",
        "print(type(num))"
      ],
      "metadata": {
        "colab": {
          "base_uri": "https://localhost:8080/"
        },
        "id": "SItLKiTs8mvS",
        "outputId": "9211f8a5-b6e9-4f59-98ed-e2ff542030b1"
      },
      "execution_count": 20,
      "outputs": [
        {
          "output_type": "stream",
          "name": "stdout",
          "text": [
            "Digite um número:: 25\n",
            "<class 'float'>\n"
          ]
        }
      ]
    },
    {
      "cell_type": "code",
      "source": [
        "nome=input ('Digite seu nome: ')\n",
        "idade = int(input('digite sua idade '))\n",
        "if idade>= 18:\n",
        " print(f\"Seja ben-vindo ao site xvideos  {nome.strip().title()}. \")\n",
        "else:\n",
        "  print(f\"você não possui idade sufuciente para acessar esse site {nome.strip().title()}.\")\n"
      ],
      "metadata": {
        "colab": {
          "base_uri": "https://localhost:8080/"
        },
        "id": "bUs7BtuY8tEP",
        "outputId": "24957676-f2a0-4a02-a997-5887d84563ee"
      },
      "execution_count": 26,
      "outputs": [
        {
          "output_type": "stream",
          "name": "stdout",
          "text": [
            "Digite seu nome: jadson\n",
            "digite sua idade 8\n",
            "você não possui idade sufuciente para acessar esse site Jadson.\n"
          ]
        }
      ]
    },
    {
      "cell_type": "code",
      "source": [
        "from math import hypot\n",
        "\n",
        "cateto_a=float(input('Digite o Cateto Adjacente: '))\n",
        "cateto_o=float(input('Digite o Cateto Oposto: '))\n",
        "\n",
        "hipotenusa1=(cateto_a**2+cateto_o**2)**(1/2)  #forma de cálculo 1\n",
        "hipotenusa2=hypot(cateto_a,cateto_o)  #forma de cálculo 2\n",
        "\n",
        "print(f'Hipotenusa: {hipotenusa1}')\n",
        "print(f'Hipotenusa: {hipotenusa2}')"
      ],
      "metadata": {
        "colab": {
          "base_uri": "https://localhost:8080/"
        },
        "id": "O15fN2yf-Vlx",
        "outputId": "67f006d2-5244-4b26-f993-aac9519fe27d"
      },
      "execution_count": 28,
      "outputs": [
        {
          "output_type": "stream",
          "name": "stdout",
          "text": [
            "Digite o Cateto Adjacente: 12\n",
            "Digite o Cateto Oposto: 5\n",
            "Hipotenusa: 13.0\n",
            "Hipotenusa: 13.0\n"
          ]
        }
      ]
    },
    {
      "cell_type": "code",
      "source": [
        "import math\n",
        "num=int(input('Digite um número inteiro: '))\n",
        "fatorial=math.factorial(num)\n",
        "print(f'O fatorial de {num} é {fatorial}')"
      ],
      "metadata": {
        "colab": {
          "base_uri": "https://localhost:8080/"
        },
        "id": "BIIWGD1y-_D9",
        "outputId": "9f248bc9-b0d2-4306-c9f4-e53a3a358a3f"
      },
      "execution_count": 31,
      "outputs": [
        {
          "output_type": "stream",
          "name": "stdout",
          "text": [
            "Digite um número inteiro: 10\n",
            "O fatorial de 10 é 3628800\n"
          ]
        }
      ]
    },
    {
      "cell_type": "code",
      "source": [
        "import math\n",
        "\n",
        "num=float(input('Digite um número: '))\n",
        "log1=math.log10(num)  #também podemos fazer: math.log(num,10)\n",
        "log2=math.log(num,2)\n",
        "print(f'O log de {num} na base 10 é {log1}')\n",
        "print(f'O log de {num} na base 2 é {log2}')"
      ],
      "metadata": {
        "colab": {
          "base_uri": "https://localhost:8080/"
        },
        "id": "cy0c0xvV_L3C",
        "outputId": "1cf7db7a-4c0a-41ac-ac31-2f94b37af0f3"
      },
      "execution_count": 33,
      "outputs": [
        {
          "output_type": "stream",
          "name": "stdout",
          "text": [
            "Digite um número: 12\n",
            "O log de 12.0 na base 10 é 1.0791812460476249\n",
            "O log de 12.0 na base 2 é 3.5849625007211565\n"
          ]
        }
      ]
    },
    {
      "cell_type": "code",
      "source": [
        "base=float(input('Digite a base do retângulo: '))\n",
        "altura=float(input('Digite a altura do retângulo: '))\n",
        "\n",
        "area=base*altura\n",
        "perimetro=2*base+2*altura\n",
        "\n",
        "print(f'O retângulo digitado tem base {base} e altura {altura}.')\n",
        "print(f'A área deste retângulo é: {area}')\n",
        "print(f'O perímetro deste retângulo é: {perimetro}')"
      ],
      "metadata": {
        "colab": {
          "base_uri": "https://localhost:8080/"
        },
        "id": "vUp9etG5_UrJ",
        "outputId": "6a54c0ed-324c-43a7-86be-bef7fd3a123b"
      },
      "execution_count": 34,
      "outputs": [
        {
          "output_type": "stream",
          "name": "stdout",
          "text": [
            "Digite a base do retângulo: 12\n",
            "Digite a altura do retângulo: 3\n",
            "O retângulo digitado tem base 12.0 e altura 3.0.\n",
            "A área deste retângulo é: 36.0\n",
            "O perímetro deste retângulo é: 30.0\n"
          ]
        }
      ]
    },
    {
      "cell_type": "code",
      "source": [
        "nome=input('Digite seu nome: ').strip().title()\n",
        "sobrenome=input('Digite seu sobrenome: ').strip().title()\n",
        "salario=float(input('Digite seu salário: '))\n",
        "salario1=salario+salario*0.1  #salário com 10% de aumento\n",
        "salario2=salario+salario*0.25  #salário com 25% de aumento\n",
        "salario3=salario+salario*0.3  #salário com 30% de aumento\n",
        "salario4=salario+salario*0.5  #salário com 50% de aumento\n",
        "\n",
        "print(f'Olá, {nome} {sobrenome}')\n",
        "print(f'Seu salário atual é: R$ {salario:.2f}')\n",
        "print(f'Seu salário com 10% de aumento é: R$ {salario1:.2f}')\n",
        "print(f'Seu salário com 25% de aumento é: R$ {salario2:.2f}')\n",
        "print(f'Seu salário com 30% de aumento é: R$ {salario3:.2f}')\n",
        "print(f'Seu salário com 50% de aumento é: R$ {salario4:.2f}')"
      ],
      "metadata": {
        "colab": {
          "base_uri": "https://localhost:8080/"
        },
        "id": "W-v2cKqL_abH",
        "outputId": "b8bcd279-cda4-4240-ef2e-417083a579b0"
      },
      "execution_count": 36,
      "outputs": [
        {
          "output_type": "stream",
          "name": "stdout",
          "text": [
            "Digite seu nome: Jadson\n",
            "Digite seu sobrenome: Luciano\n",
            "Digite seu salário: 2500\n",
            "Olá, Jadson Luciano\n",
            "Seu salário atual é: R$ 2500.00\n",
            "Seu salário com 10% de aumento é: R$ 2750.00\n",
            "Seu salário com 25% de aumento é: R$ 3125.00\n",
            "Seu salário com 30% de aumento é: R$ 3250.00\n",
            "Seu salário com 50% de aumento é: R$ 3750.00\n"
          ]
        }
      ]
    },
    {
      "cell_type": "code",
      "source": [
        "num=int(input('Digite um número inteiro: \\n'))\n",
        "print(f'Tabuada do número: {num}')\n",
        "print(f'{num} x 1 = {num*1}')\n",
        "print(f'{num} x 2 = {num*2}')\n",
        "print(f'{num} x 3 = {num*3}')\n",
        "print(f'{num} x 4 = {num*4}')\n",
        "print(f'{num} x 5 = {num*5}')\n",
        "print(f'{num} x 6 = {num*6}')\n",
        "print(f'{num} x 7 = {num*7}')\n",
        "print(f'{num} x 8 = {num*8}')\n",
        "print(f'{num} x 9 = {num*9}')\n",
        "print(f'{num} x 10 = {num*10}')"
      ],
      "metadata": {
        "colab": {
          "base_uri": "https://localhost:8080/"
        },
        "id": "8IpLSnMIAXBr",
        "outputId": "b865b56c-1338-486f-accf-57d14bcdbe40"
      },
      "execution_count": 37,
      "outputs": [
        {
          "output_type": "stream",
          "name": "stdout",
          "text": [
            "Digite um número inteiro: \n",
            "10\n",
            "Tabuada do número: 10\n",
            "10 x 1 = 10\n",
            "10 x 2 = 20\n",
            "10 x 3 = 30\n",
            "10 x 4 = 40\n",
            "10 x 5 = 50\n",
            "10 x 6 = 60\n",
            "10 x 7 = 70\n",
            "10 x 8 = 80\n",
            "10 x 9 = 90\n",
            "10 x 10 = 100\n"
          ]
        }
      ]
    },
    {
      "cell_type": "code",
      "source": [
        "num=int(input('Digite um número inteiro: '))\n",
        "print(f'O valor absoluto de {num} é {abs(num)}.')"
      ],
      "metadata": {
        "colab": {
          "base_uri": "https://localhost:8080/"
        },
        "id": "rxMrQ8PdAb8l",
        "outputId": "798f1ef6-5c50-40c2-ca7b-977498aa7c00"
      },
      "execution_count": 38,
      "outputs": [
        {
          "output_type": "stream",
          "name": "stdout",
          "text": [
            "Digite um número inteiro: 10\n",
            "O valor absoluto de 10 é 10.\n"
          ]
        }
      ]
    },
    {
      "cell_type": "code",
      "source": [
        "string=input('Digite algo: ')\n",
        "print(f'Você digitou: {string}')\n",
        "print(f'Quantidade de caracteres do que você digitou é: {len(string)}')"
      ],
      "metadata": {
        "colab": {
          "base_uri": "https://localhost:8080/"
        },
        "id": "mzMp94KkAh5Z",
        "outputId": "6d660851-3804-46fc-a513-90d0e2b1e46d"
      },
      "execution_count": 39,
      "outputs": [
        {
          "output_type": "stream",
          "name": "stdout",
          "text": [
            "Digite algo: Jadsson\n",
            "Você digitou: Jadsson\n",
            "Quantidade de caracteres do que você digitou é: 7\n"
          ]
        }
      ]
    },
    {
      "cell_type": "code",
      "source": [
        "num=int(input('Número inteiro: '))\n",
        "if num%2==0:\n",
        "    print(f'O número {num} é par.')\n",
        "else:\n",
        "    print(f'O número é {num} é ímpar.')"
      ],
      "metadata": {
        "colab": {
          "base_uri": "https://localhost:8080/"
        },
        "id": "BYP1eM8ZAoVc",
        "outputId": "25330a87-75dc-41a6-b815-f4a8ca98459c"
      },
      "execution_count": 41,
      "outputs": [
        {
          "output_type": "stream",
          "name": "stdout",
          "text": [
            "Número inteiro: 100\n",
            "O número 100 é par.\n"
          ]
        }
      ]
    },
    {
      "cell_type": "code",
      "source": [
        "print('Cálculo do IMC')\n",
        "altura=float(input('Insira sua altura : \\n'))\n",
        "peso=float(input('Insira seu peso : \\n'))\n",
        "imc=peso/(altura*altura)  #poderíamos fazer peso/altura**2\n",
        "print('Processando seus dados...')\n",
        "if imc<17:\n",
        "    print('Muito abaixo do peso.')\n",
        "elif 17<=imc<18.5:\n",
        "    print('Abaixo do peso.')\n",
        "elif 18.5<=imc<25:\n",
        "    print('Peso normal.')\n",
        "elif 25<=imc<30:\n",
        "    print('Acima do peso.')\n",
        "elif 30<=imc<35:\n",
        "    print('Obesidade Grau I.')\n",
        "elif 35<=imc<40:\n",
        "    print('Obesidade Grau II (severa).')\n",
        "else:\n",
        "    print('Obesidade Grau III (mórbida).')"
      ],
      "metadata": {
        "colab": {
          "base_uri": "https://localhost:8080/"
        },
        "id": "dfApZLmYBn2i",
        "outputId": "15f93f98-9f84-40f9-fd96-768cffe144a0"
      },
      "execution_count": 42,
      "outputs": [
        {
          "output_type": "stream",
          "name": "stdout",
          "text": [
            "Cálculo do IMC\n",
            "Insira sua altura : \n",
            "1.82\n",
            "Insira seu peso : \n",
            "126\n",
            "Processando seus dados...\n",
            "Obesidade Grau II (severa).\n"
          ]
        }
      ]
    },
    {
      "cell_type": "code",
      "source": [
        "n1=float(input('Valor 1 : '))\n",
        "n2=float(input('Valor 2 : '))\n",
        "if n1>n2:\n",
        "    print(f'{n1}>{n2}')\n",
        "elif n1==n2:\n",
        "    print(f'{n1}={n2}')\n",
        "else:\n",
        "    print(f'{n1}<{n2}')"
      ],
      "metadata": {
        "colab": {
          "base_uri": "https://localhost:8080/"
        },
        "id": "G7hjdCMECO0K",
        "outputId": "216af971-ddd3-4cce-f2f8-426d85fb9400"
      },
      "execution_count": 44,
      "outputs": [
        {
          "output_type": "stream",
          "name": "stdout",
          "text": [
            "Valor 1 : 10\n",
            "Valor 2 : 5\n",
            "10.0>5.0\n"
          ]
        }
      ]
    },
    {
      "cell_type": "code",
      "source": [
        "num=float(input('Digite um número: '))\n",
        "if num>0:\n",
        "    print('Número positivo.')\n",
        "elif num==0:\n",
        "    print('Número nulo.')\n",
        "else:\n",
        "    print('Número negativo.')"
      ],
      "metadata": {
        "colab": {
          "base_uri": "https://localhost:8080/"
        },
        "id": "q0FKxwhkCUSV",
        "outputId": "cabd0900-ad91-4670-e17e-cd7e134e9a8b"
      },
      "execution_count": 45,
      "outputs": [
        {
          "output_type": "stream",
          "name": "stdout",
          "text": [
            "Digite um número: 10\n",
            "Número positivo.\n"
          ]
        }
      ]
    },
    {
      "cell_type": "code",
      "source": [
        "numero1=float(input('Número 1: '))\n",
        "numero2=float(input('Número 2: '))\n",
        "numero3=float(input('Número 3: '))\n",
        "\n",
        "if (numero1>=numero2) and (numero1>=numero3):\n",
        "    print(f'Maior número: {numero1}')\n",
        "elif (numero2>=numero1) and (numero2>=numero3):\n",
        "    print(f'Maior número: {numero2}')\n",
        "else:\n",
        "    print(f'Maior número: {numero3}')"
      ],
      "metadata": {
        "colab": {
          "base_uri": "https://localhost:8080/"
        },
        "id": "a8fSs4v7CWNk",
        "outputId": "dc3811fd-9293-4bca-bfb2-01748912c76b"
      },
      "execution_count": 46,
      "outputs": [
        {
          "output_type": "stream",
          "name": "stdout",
          "text": [
            "Número 1: 12\n",
            "Número 2: 20\n",
            "Número 3: 5\n",
            "Maior número: 20.0\n"
          ]
        }
      ]
    },
    {
      "cell_type": "code",
      "source": [
        "import random\n",
        "num=random.randint(1,100)\n",
        "print(num)\n"
      ],
      "metadata": {
        "colab": {
          "base_uri": "https://localhost:8080/"
        },
        "id": "2VF6SY-yCdGA",
        "outputId": "3fff586b-7e61-489e-99f5-54c0d68d9034"
      },
      "execution_count": 58,
      "outputs": [
        {
          "output_type": "stream",
          "name": "stdout",
          "text": [
            "89\n"
          ]
        }
      ]
    },
    {
      "cell_type": "code",
      "source": [
        "ano=int(input('Ano : '))\n",
        "if ano%400==0 or (ano%4==0 and not ano%100==0):\n",
        "    print('Ano bissexto.')\n",
        "else:\n",
        "    print('Ano não bissexto.')"
      ],
      "metadata": {
        "colab": {
          "base_uri": "https://localhost:8080/"
        },
        "id": "r6ugi75XCs9_",
        "outputId": "842fdc4e-eda2-4d65-9525-a4759c46c657"
      },
      "execution_count": 52,
      "outputs": [
        {
          "output_type": "stream",
          "name": "stdout",
          "text": [
            "Ano : 1998\n",
            "Ano não bissexto.\n"
          ]
        }
      ]
    },
    {
      "cell_type": "code",
      "source": [
        "string=input('Digite algo: ')\n",
        "print(len(string))"
      ],
      "metadata": {
        "colab": {
          "base_uri": "https://localhost:8080/"
        },
        "id": "iGLRNJu1iJ2G",
        "outputId": "ea2d1359-1be8-4931-960b-7d896109e593"
      },
      "execution_count": 53,
      "outputs": [
        {
          "output_type": "stream",
          "name": "stdout",
          "text": [
            "Digite algo: jadson\n",
            "6\n"
          ]
        }
      ]
    },
    {
      "cell_type": "code",
      "source": [
        "import datetime\n",
        "\n",
        "data_atual=datetime.datetime.now()\n",
        "print(data_atual.strftime('%d/%m/%Y - %H:%M:%S'))"
      ],
      "metadata": {
        "colab": {
          "base_uri": "https://localhost:8080/"
        },
        "id": "5LT8gBi0iNuE",
        "outputId": "826feaa5-59ff-4a37-9b58-487e494e2ce1"
      },
      "execution_count": 56,
      "outputs": [
        {
          "output_type": "stream",
          "name": "stdout",
          "text": [
            "07/11/2023 - 16:13:10\n"
          ]
        }
      ]
    }
  ]
}